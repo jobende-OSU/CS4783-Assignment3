{
  "nbformat": 4,
  "nbformat_minor": 0,
  "metadata": {
    "colab": {
      "provenance": [],
      "collapsed_sections": [],
      "authorship_tag": "ABX9TyMDj0wHCSDegG8Rtcft+rRr",
      "include_colab_link": true
    },
    "kernelspec": {
      "name": "python3",
      "display_name": "Python 3"
    },
    "language_info": {
      "name": "python"
    },
    "accelerator": "GPU",
    "gpuClass": "standard"
  },
  "cells": [
    {
      "cell_type": "markdown",
      "metadata": {
        "id": "view-in-github",
        "colab_type": "text"
      },
      "source": [
        "<a href=\"https://colab.research.google.com/github/jobende-OSU/CS4783-Assignment3/blob/main/Assignment3.ipynb\" target=\"_parent\"><img src=\"https://colab.research.google.com/assets/colab-badge.svg\" alt=\"Open In Colab\"/></a>"
      ]
    },
    {
      "cell_type": "code",
      "source": [
        "# Import Keras and other relevant packages.\n",
        "import numpy as np\n",
        "from tensorflow import keras\n",
        "import matplotlib.pyplot as plt\n",
        "\n",
        "# Attain the relevant datasets.\n",
        "(mnist_train_x, mnist_train_y), (mnist_test_x, mnist_test_y) = keras.datasets.mnist.load_data()\n",
        "(cifar_train_x, cifar_train_y), (cifar_test_x, cifar_test_y) = keras.datasets.cifar10.load_data()\n",
        "\n",
        "# Normalize values.\n",
        "mnist_train_x, mnist_test_x = mnist_train_x / 255.0, mnist_test_x / 255.0\n",
        "cifar_train_x, cifar_test_x = cifar_train_x / 255.0, cifar_test_x / 255.0\n",
        "\n",
        "# Make images have a flat 3rd dimension on the datasets.\n",
        "mnist_train_x, mnist_test_x = np.expand_dims(mnist_train_x, -1), np.expand_dims(mnist_test_x, -1)\n",
        "cifar_train_x, cifar_test_x = np.expand_dims(cifar_train_x, -1), np.expand_dims(cifar_test_x, -1)\n",
        "\n",
        "# Make class vectors matrices of binary classes for categorical classification.\n",
        "mnist_train_y = keras.utils.to_categorical(mnist_train_y, 10)\n",
        "mnist_test_y = keras.utils.to_categorical(mnist_test_y, 10)\n",
        "cifar_train_y = keras.utils.to_categorical(cifar_train_y, 10)\n",
        "cifar_test_y = keras.utils.to_categorical(cifar_test_y, 10)"
      ],
      "metadata": {
        "id": "_oxwS2WYjloh",
        "colab": {
          "base_uri": "https://localhost:8080/"
        },
        "outputId": "5cce7523-33b1-4198-e209-4432b7d6d80c"
      },
      "execution_count": 1,
      "outputs": [
        {
          "output_type": "stream",
          "name": "stdout",
          "text": [
            "Downloading data from https://storage.googleapis.com/tensorflow/tf-keras-datasets/mnist.npz\n",
            "11490434/11490434 [==============================] - 0s 0us/step\n",
            "Downloading data from https://www.cs.toronto.edu/~kriz/cifar-10-python.tar.gz\n",
            "170498071/170498071 [==============================] - 3s 0us/step\n"
          ]
        }
      ]
    },
    {
      "cell_type": "markdown",
      "source": [
        "# Question 1"
      ],
      "metadata": {
        "id": "jsT8EuX_jTOf"
      }
    },
    {
      "cell_type": "markdown",
      "source": [
        "For conciseness, I did not include the code blocks I used for testing other configurations of the hyperparameters in the notebook. However, I do talk about the best accuracy I was able to achieve with them in my textual answer below each of my best results, which is sufficent enough to recreate those experiments if needed."
      ],
      "metadata": {
        "id": "RIfnKs2jY0po"
      }
    },
    {
      "cell_type": "code",
      "execution_count": null,
      "metadata": {
        "id": "34pD-6_-jNmI"
      },
      "outputs": [],
      "source": [
        "# Define all 3 models.\n",
        "\n",
        "# Ten layers with num of filters going from 12 to 128.\n",
        "def increase_model(summary=False):\n",
        "  model = keras.models.Sequential()\n",
        "  for x in range(10): \n",
        "    model.add(keras.layers.Conv2D(int(128 * (x / 10.0)) + int(128 * 0.1), (3, 3), \n",
        "                                  activation='relu', input_shape = (28, 28, 1)))\n",
        "  model.add(keras.layers.Flatten())\n",
        "  model.add(keras.layers.Dense(32, activation=\"relu\"))\n",
        "  model.add(keras.layers.Dense(10, activation=\"softmax\"))\n",
        "  if summary:\n",
        "    model.summary()\n",
        "  return model\n",
        "\n",
        "# Ten layers with num of filters going from 128 to 12.\n",
        "def decrease_model(summary=False):\n",
        "  model = keras.models.Sequential()\n",
        "  for x in range(10): \n",
        "    model.add(keras.layers.Conv2D(128 - int(128 * (x / 10.0)), (3, 3), \n",
        "                                  activation='relu', input_shape = (28, 28, 1)))\n",
        "  model.add(keras.layers.Flatten())\n",
        "  model.add(keras.layers.Dense(32, activation=\"relu\"))\n",
        "  model.add(keras.layers.Dense(10, activation=\"softmax\"))\n",
        "  if summary:\n",
        "    model.summary()\n",
        "  return model\n",
        "\n",
        "# Ten layers with num of filters going from 64 to 128 to 76.\n",
        "def glass_model(summary=False):\n",
        "  model = keras.models.Sequential()\n",
        "  for x in range(10): \n",
        "    model.add(keras.layers.Conv2D(128 - int(128 * (abs(x - 5) / 10.0)), (3, 3), \n",
        "                                  activation='relu', input_shape = (28, 28, 1)))\n",
        "  model.add(keras.layers.Flatten())\n",
        "  model.add(keras.layers.Dense(32, activation=\"relu\"))\n",
        "  model.add(keras.layers.Dense(10, activation=\"softmax\"))\n",
        "  if summary:\n",
        "    model.summary()\n",
        "  return model"
      ]
    },
    {
      "cell_type": "code",
      "source": [
        "# Training function.\n",
        "def train_model(model, optimizer, batch_size, verbose=0):\n",
        "  # Train the model.\n",
        "  epochs = 25\n",
        "  model.compile(loss=\"categorical_crossentropy\", optimizer=optimizer, metrics=[\"accuracy\"])\n",
        "  history = model.fit(mnist_train_x, mnist_train_y, batch_size=batch_size, \n",
        "                    epochs=epochs, validation_data=(mnist_test_x, mnist_test_y),\n",
        "                    verbose=verbose)\n",
        "  test_loss, test_acc = model.evaluate(mnist_test_x,  mnist_test_y, verbose=0)\n",
        "\n",
        "  # Return the accuracy.\n",
        "  return history, test_loss, test_acc"
      ],
      "metadata": {
        "id": "YlT9rpQkRfxx"
      },
      "execution_count": null,
      "outputs": []
    },
    {
      "cell_type": "markdown",
      "source": [
        "### Increasing Filters"
      ],
      "metadata": {
        "id": "YVxNQa0RjgS3"
      }
    },
    {
      "cell_type": "code",
      "source": [
        "# Increasing Filters\n",
        "model1 = increase_model(True)\n",
        "batch_size = 128\n",
        "optimizer = keras.optimizers.Adam(learning_rate=0.001)\n",
        "history1, test_loss, test_acc = train_model(model1, optimizer, batch_size, verbose=0)\n",
        "\n",
        "# Evaluate the data.\n",
        "plt.plot(history1.history['accuracy'], label='Increase Train')\n",
        "plt.plot(history1.history['val_accuracy'], label = 'Increase Test')\n",
        "plt.xlabel('Epoch')\n",
        "plt.ylabel('Accuracy')\n",
        "plt.ylim([0.75, 1])\n",
        "plt.legend(loc='lower right')\n",
        "plt.title(\"Increasing History\")\n",
        "print(f\"Increasing:\\tLoss={test_loss}\\tAccuracy={test_acc}\")"
      ],
      "metadata": {
        "colab": {
          "base_uri": "https://localhost:8080/",
          "height": 908
        },
        "outputId": "ae4a17db-253f-4c1e-d13e-59a36b37dd02",
        "id": "S7B03Nu5qPP3"
      },
      "execution_count": null,
      "outputs": [
        {
          "output_type": "stream",
          "name": "stdout",
          "text": [
            "Model: \"sequential_5\"\n",
            "_________________________________________________________________\n",
            " Layer (type)                Output Shape              Param #   \n",
            "=================================================================\n",
            " conv2d_9 (Conv2D)           (None, 26, 26, 12)        120       \n",
            "                                                                 \n",
            " conv2d_10 (Conv2D)          (None, 24, 24, 24)        2616      \n",
            "                                                                 \n",
            " conv2d_11 (Conv2D)          (None, 22, 22, 37)        8029      \n",
            "                                                                 \n",
            " conv2d_12 (Conv2D)          (None, 20, 20, 50)        16700     \n",
            "                                                                 \n",
            " conv2d_13 (Conv2D)          (None, 18, 18, 63)        28413     \n",
            "                                                                 \n",
            " conv2d_14 (Conv2D)          (None, 16, 16, 76)        43168     \n",
            "                                                                 \n",
            " conv2d_15 (Conv2D)          (None, 14, 14, 88)        60280     \n",
            "                                                                 \n",
            " conv2d_16 (Conv2D)          (None, 12, 12, 101)       80093     \n",
            "                                                                 \n",
            " conv2d_17 (Conv2D)          (None, 10, 10, 114)       103740    \n",
            "                                                                 \n",
            " conv2d_18 (Conv2D)          (None, 8, 8, 127)         130429    \n",
            "                                                                 \n",
            " flatten_5 (Flatten)         (None, 8128)              0         \n",
            "                                                                 \n",
            " dense_16 (Dense)            (None, 32)                260128    \n",
            "                                                                 \n",
            " dense_17 (Dense)            (None, 10)                330       \n",
            "                                                                 \n",
            "=================================================================\n",
            "Total params: 734,046\n",
            "Trainable params: 734,046\n",
            "Non-trainable params: 0\n",
            "_________________________________________________________________\n",
            "Increasing:\tLoss=0.048304565250873566\tAccuracy=0.989300012588501\n"
          ]
        },
        {
          "output_type": "display_data",
          "data": {
            "text/plain": [
              "<Figure size 432x288 with 1 Axes>"
            ],
            "image/png": "[encoded data removed]"
          },
          "metadata": {
            "needs_background": "light"
          }
        }
      ]
    },
    {
      "cell_type": "markdown",
      "source": [
        "There are a decent number of observations I made about this network. It converged very well in the training set with an accuracy higher than 99.5%. This appears to not be an overfit since the testing accuracy was about ~99% as well. Also, it only took around 4 minutes to train for 25 epochs.\n",
        "\n",
        "I went with using Adam and a learning rate of 0.001 with a batch size of 128. My best attempt using SGD had a learning rate of 0.01 and a batch size of 128, obtaining an average accuracy of 98.5%. The best attempt I had with RMSprop used 0.001 for the learning rate and 128 for the batch size and could only get an accuracy of 98.75% on average. Other batch sizes I attempted with each of these optimizers did not perform as well as 128."
      ],
      "metadata": {
        "id": "MkP3td1aZyEW"
      }
    },
    {
      "cell_type": "markdown",
      "source": [
        "### Decreasing Filters"
      ],
      "metadata": {
        "id": "nISel8faXiwU"
      }
    },
    {
      "cell_type": "code",
      "source": [
        "# Decreasing Filters\n",
        "model2 = decrease_model(True)\n",
        "batch_size = 64\n",
        "optimizer = keras.optimizers.SGD(learning_rate=0.01)\n",
        "history2, test_loss, test_acc = train_model(model2, optimizer, batch_size, verbose=0)\n",
        "\n",
        "# Visualize data for evaluating.\n",
        "plt.plot(history2.history['accuracy'], label='Decrease Train')\n",
        "plt.plot(history2.history['val_accuracy'], label = 'Decrease Test')\n",
        "plt.xlabel('Epoch')\n",
        "plt.ylabel('Accuracy')\n",
        "plt.ylim([0.75, 1])\n",
        "plt.legend(loc='lower right')\n",
        "plt.title(\"Decreasing History\")\n",
        "print(f\"Decreasing:\\tLoss={test_loss}\\tAccuracy={test_acc}\")"
      ],
      "metadata": {
        "colab": {
          "base_uri": "https://localhost:8080/",
          "height": 908
        },
        "outputId": "0089fec8-1b1c-4125-8229-c5695e54a306",
        "id": "vAs2S15pqQRY"
      },
      "execution_count": null,
      "outputs": [
        {
          "output_type": "stream",
          "name": "stdout",
          "text": [
            "Model: \"sequential_6\"\n",
            "_________________________________________________________________\n",
            " Layer (type)                Output Shape              Param #   \n",
            "=================================================================\n",
            " conv2d_19 (Conv2D)          (None, 26, 26, 128)       1280      \n",
            "                                                                 \n",
            " conv2d_20 (Conv2D)          (None, 24, 24, 116)       133748    \n",
            "                                                                 \n",
            " conv2d_21 (Conv2D)          (None, 22, 22, 103)       107635    \n",
            "                                                                 \n",
            " conv2d_22 (Conv2D)          (None, 20, 20, 90)        83520     \n",
            "                                                                 \n",
            " conv2d_23 (Conv2D)          (None, 18, 18, 77)        62447     \n",
            "                                                                 \n",
            " conv2d_24 (Conv2D)          (None, 16, 16, 64)        44416     \n",
            "                                                                 \n",
            " conv2d_25 (Conv2D)          (None, 14, 14, 52)        30004     \n",
            "                                                                 \n",
            " conv2d_26 (Conv2D)          (None, 12, 12, 39)        18291     \n",
            "                                                                 \n",
            " conv2d_27 (Conv2D)          (None, 10, 10, 26)        9152      \n",
            "                                                                 \n",
            " conv2d_28 (Conv2D)          (None, 8, 8, 13)          3055      \n",
            "                                                                 \n",
            " flatten_6 (Flatten)         (None, 832)               0         \n",
            "                                                                 \n",
            " dense_18 (Dense)            (None, 32)                26656     \n",
            "                                                                 \n",
            " dense_19 (Dense)            (None, 10)                330       \n",
            "                                                                 \n",
            "=================================================================\n",
            "Total params: 520,534\n",
            "Trainable params: 520,534\n",
            "Non-trainable params: 0\n",
            "_________________________________________________________________\n",
            "Decreasing:\tLoss=0.0431395098567009\tAccuracy=0.9869999885559082\n"
          ]
        },
        {
          "output_type": "display_data",
          "data": {
            "text/plain": [
              "<Figure size 432x288 with 1 Axes>"
            ],
            "image/png": "[encoded data removed]"
          },
          "metadata": {
            "needs_background": "light"
          }
        }
      ]
    },
    {
      "cell_type": "markdown",
      "source": [
        "Like the increasing network, this model also obtained a very high accuracy in both sets. One noticable difference between the networks though is that the training and testing accuracy are much closer in comparison, making the loss lower in comparison. Additionally, this model takes about 60% longer to train than the increasing model for the same hyperparameters.\n",
        "\n",
        "I settled on using SGD with 0.01 as my learning rate and 64 as my batch size. Higher batch sizes I tested with exclusively lowered the accuracy, and other learning rates I tried above and including 0.1 caused training failure and wouldn't learn regardless of the batch size I chose. In the end, it had about 99% for the training accuracy and ~98.5% for the testing accuracy. \n",
        "\n",
        "Adam surprising did not perform as well with the optimal settings I found being 0.001 for the rate and 64 for the batch size. It had only slightly worse performance with about 0.01 greater loss than SGD and equivalent accuracy. RMSprop also did worse, only obtaining an accuracy of 98.5% when using the same parameters as Adam's best case. "
      ],
      "metadata": {
        "id": "rhjfF5rdeAQ2"
      }
    },
    {
      "cell_type": "markdown",
      "source": [
        "### Hour Glass Filters"
      ],
      "metadata": {
        "id": "HJq4G77eXlQE"
      }
    },
    {
      "cell_type": "code",
      "source": [
        "# Hour Glass Filters\n",
        "model3 = glass_model(True)\n",
        "batch_size = 128\n",
        "optimizer = keras.optimizers.Adam(learning_rate=0.001)\n",
        "history3, test_loss, test_acc = train_model(model3, optimizer, batch_size, verbose=0)\n",
        "\n",
        "# Visualize data for evaluating.\n",
        "plt.plot(history3.history['accuracy'], label='Hour Glass Train')\n",
        "plt.plot(history3.history['val_accuracy'], label = 'Hour Glass Test')\n",
        "plt.xlabel('Epoch')\n",
        "plt.ylabel('Accuracy')\n",
        "plt.ylim([0.75, 1])\n",
        "plt.legend(loc='lower right')\n",
        "plt.title(\"Hour Glass History\")\n",
        "print(f\"Hour Glass:\\tLoss={test_loss}\\tAccuracy={test_acc}\")"
      ],
      "metadata": {
        "colab": {
          "base_uri": "https://localhost:8080/",
          "height": 908
        },
        "outputId": "93b7e14f-691e-4418-a042-635794cfdbc3",
        "id": "hjCsGvoZqRSB"
      },
      "execution_count": null,
      "outputs": [
        {
          "output_type": "stream",
          "name": "stdout",
          "text": [
            "Model: \"sequential_7\"\n",
            "_________________________________________________________________\n",
            " Layer (type)                Output Shape              Param #   \n",
            "=================================================================\n",
            " conv2d_29 (Conv2D)          (None, 26, 26, 64)        640       \n",
            "                                                                 \n",
            " conv2d_30 (Conv2D)          (None, 24, 24, 77)        44429     \n",
            "                                                                 \n",
            " conv2d_31 (Conv2D)          (None, 22, 22, 90)        62460     \n",
            "                                                                 \n",
            " conv2d_32 (Conv2D)          (None, 20, 20, 103)       83533     \n",
            "                                                                 \n",
            " conv2d_33 (Conv2D)          (None, 18, 18, 116)       107648    \n",
            "                                                                 \n",
            " conv2d_34 (Conv2D)          (None, 16, 16, 128)       133760    \n",
            "                                                                 \n",
            " conv2d_35 (Conv2D)          (None, 14, 14, 116)       133748    \n",
            "                                                                 \n",
            " conv2d_36 (Conv2D)          (None, 12, 12, 103)       107635    \n",
            "                                                                 \n",
            " conv2d_37 (Conv2D)          (None, 10, 10, 90)        83520     \n",
            "                                                                 \n",
            " conv2d_38 (Conv2D)          (None, 8, 8, 77)          62447     \n",
            "                                                                 \n",
            " flatten_7 (Flatten)         (None, 4928)              0         \n",
            "                                                                 \n",
            " dense_20 (Dense)            (None, 32)                157728    \n",
            "                                                                 \n",
            " dense_21 (Dense)            (None, 10)                330       \n",
            "                                                                 \n",
            "=================================================================\n",
            "Total params: 977,878\n",
            "Trainable params: 977,878\n",
            "Non-trainable params: 0\n",
            "_________________________________________________________________\n",
            "Hour Glass:\tLoss=0.041846346110105515\tAccuracy=0.9886000156402588\n"
          ]
        },
        {
          "output_type": "display_data",
          "data": {
            "text/plain": [
              "<Figure size 432x288 with 1 Axes>"
            ],
            "image/png": "[encoded data removed]"
          },
          "metadata": {
            "needs_background": "light"
          }
        }
      ]
    },
    {
      "cell_type": "markdown",
      "source": [
        "This model shares similarities with both of the previous two. The accuracy in both the training and test set are close together, the training accuracy is nearly 100%, and it was the most consistent with its accuracy between epochs. However, this model takes about twice as long to train as the increasing network.\n",
        "\n",
        "Like with the increasing model, the best settings I found for this network were using Adam with 0.001 for the learning rate and 128 for the batch size. Ultimately, I managed to achieve a training accuracy close to 100% and a testing accuracy of about 99%.\n",
        "\n",
        "Testing with SGD, higher batch sizes that I tried lessened accuracy and caused the testing accuracy to be much less stable. Additionally, using 0.01 for the rate and 64 for the batch size consistently had around 2% less accuracy in both sets. When using a rate of 0.1 and batchs of 128, its performance was equivalent to that of Adam, but with less stability. \n",
        "\n",
        "RMSprop performed equally to Adam in both remaining stable and in making predictions. Like Adam, the best configuration I found used 0.001 for the learning rate and 128 for the batch size. The only way that Adam performed better is in regards to loss. RMSprop's loss was 0.02 higher than Adam's. "
      ],
      "metadata": {
        "id": "z6SjLWj4ew0G"
      }
    },
    {
      "cell_type": "markdown",
      "source": [
        "### Conclusions"
      ],
      "metadata": {
        "id": "Z8A0wC_9XoTz"
      }
    },
    {
      "cell_type": "code",
      "source": [
        "# Print the final accuracy.\n",
        "_, _ = model1.evaluate(mnist_test_x,  mnist_test_y, verbose=2)\n",
        "_, _ = model2.evaluate(mnist_test_x,  mnist_test_y, verbose=2)\n",
        "_, _ = model3.evaluate(mnist_test_x,  mnist_test_y, verbose=2)"
      ],
      "metadata": {
        "colab": {
          "base_uri": "https://localhost:8080/"
        },
        "id": "RswKeY76rNga",
        "outputId": "e8728a20-7e73-45a4-9c13-feefc758fea5"
      },
      "execution_count": null,
      "outputs": [
        {
          "output_type": "stream",
          "name": "stdout",
          "text": [
            "313/313 - 1s - loss: 0.0483 - accuracy: 0.9893 - 1s/epoch - 4ms/step\n",
            "313/313 - 2s - loss: 0.0431 - accuracy: 0.9870 - 2s/epoch - 5ms/step\n",
            "313/313 - 2s - loss: 0.0418 - accuracy: 0.9886 - 2s/epoch - 5ms/step\n"
          ]
        }
      ]
    },
    {
      "cell_type": "markdown",
      "source": [
        "Overall, all three models acheived a testing accuracy of about 99% on average. However, since their performance in regards to accuracy and loss are so similar, the most meaningful comparison to make between them is how long they take to train. The increasing network took only 5 minutes to train on the GPU in comparison to the decreasing and hour glass networks' times of 8 and 9 minutes respectively. This makes it the best performing model of the 3 since they are all equally accurate in making predictions with my best configurations."
      ],
      "metadata": {
        "id": "AEaj7uTaBXR8"
      }
    },
    {
      "cell_type": "markdown",
      "source": [
        "# Question 2"
      ],
      "metadata": {
        "id": "VAwhMC_bw_vc"
      }
    },
    {
      "cell_type": "markdown",
      "source": [
        "There's a decent chance that the loops below will cause the runtime to run out of memory when ran together. If this occurs, only execute the required blocks and continue from where it terminated. Apologies for this inconvenience."
      ],
      "metadata": {
        "id": "sBnr8hZtZml3"
      }
    },
    {
      "cell_type": "code",
      "source": [
        "# Define a model.\n",
        "def LeNet_Model(summary=False):\n",
        "  model = keras.models.Sequential()\n",
        "  model.add(keras.layers.Conv2D(6, (5, 5), strides=(1, 1), activation='relu', input_shape = (32, 32, 3)))\n",
        "  model.add(keras.layers.MaxPool2D((2, 2), strides=(2, 2)))\n",
        "  model.add(keras.layers.Conv2D(16, (5, 5), strides=(1, 1), activation='relu'))\n",
        "  model.add(keras.layers.MaxPool2D((2, 2), strides=(2, 2)))\n",
        "  model.add(keras.layers.Conv2D(120, (5, 5), strides=(1, 1), activation='relu'))\n",
        "  model.add(keras.layers.Flatten()) # Needed to get (None, <classes>) output.\n",
        "  model.add(keras.layers.Dense(84, activation='relu'))\n",
        "  model.add(keras.layers.Dense(10, activation='softmax'))\n",
        "  if summary:\n",
        "    model.summary()\n",
        "  return model"
      ],
      "metadata": {
        "id": "Hbcy4_QaxB8y"
      },
      "execution_count": 2,
      "outputs": []
    },
    {
      "cell_type": "code",
      "source": [
        "def LeNet_Train(learning_rate, batch_size, model=None, verbose=0):\n",
        "  # Train the model.\n",
        "  epochs = 25\n",
        "  optimizer = keras.optimizers.Adam(learning_rate=learning_rate)\n",
        "  if model == None:\n",
        "    model = LeNet_Model();\n",
        "  model.compile(loss=\"categorical_crossentropy\", optimizer=optimizer, metrics=[\"accuracy\"])\n",
        "  history = model.fit(cifar_train_x, cifar_train_y, batch_size=batch_size, \n",
        "                    epochs=epochs, validation_data=(cifar_test_x, cifar_test_y),\n",
        "                    verbose=verbose)\n",
        "  test_loss, test_acc = model.evaluate(cifar_test_x,  cifar_test_y, verbose=0)\n",
        "  # Return the accuracy.\n",
        "  return history, test_loss, test_acc"
      ],
      "metadata": {
        "id": "76XE_ucCyzho"
      },
      "execution_count": 3,
      "outputs": []
    },
    {
      "cell_type": "markdown",
      "source": [
        "### Part 1"
      ],
      "metadata": {
        "id": "K751HgBV4SDb"
      }
    },
    {
      "cell_type": "code",
      "source": [
        "# Batch size is constant for trials so that the effect of learning rate is isolated.\n",
        "batch_size = 512\n",
        "rates = [0.001, 0.002, 0.003, 0.004, 0.005, 0.006, 0.007, 0.008, 0.009, 0.01]\n",
        "\n",
        "# Get initial weights and save them so the same model can be recycled.\n",
        "model = LeNet_Model()\n",
        "model.compile(loss=\"categorical_crossentropy\", optimizer=keras.optimizers.Adam(learning_rate=rates[0]), metrics=[\"accuracy\"])\n",
        "weights = model.get_weights()"
      ],
      "metadata": {
        "id": "NT1gc1EK4W0U"
      },
      "execution_count": null,
      "outputs": []
    },
    {
      "cell_type": "code",
      "source": [
        "# Loop through the first five learning rates.\n",
        "for rate in rates[:5]:\n",
        "  # Reset the models weights to default (may be redundant).\n",
        "  model.set_weights(weights)\n",
        "  \n",
        "  # Train the model with the current learning rate.\n",
        "  _, test_loss, test_acc = LeNet_Train(rate, batch_size, model)\n",
        "\n",
        "  # Check if the loss is ~2.3. If it is, the model failed to converge.\n",
        "  if (round(test_loss, 1) == 2.3):\n",
        "    print(f\"({rate}, {batch_size}):\\tLoss={test_loss}\\tAccuracy={test_acc}\\t(Training Failed)\")\n",
        "  else:\n",
        "    print(f\"({rate}, {batch_size}):\\tLoss={test_loss}\\tAccuracy={test_acc}\")\n",
        "\n",
        "  # Mitigates OOM errors.\n",
        "  keras.backend.clear_session() \n",
        "  del _"
      ],
      "metadata": {
        "colab": {
          "base_uri": "https://localhost:8080/"
        },
        "id": "Ia9pzxh94P84",
        "outputId": "eae384bf-bedb-4f9a-d9fb-5634ef1bdaa6"
      },
      "execution_count": null,
      "outputs": [
        {
          "output_type": "stream",
          "name": "stdout",
          "text": [
            "(0.001, 512):\tLoss=1.1545182466506958\tAccuracy=0.5902000069618225\n",
            "(0.002, 512):\tLoss=1.0924021005630493\tAccuracy=0.6233000159263611\n",
            "(0.003, 512):\tLoss=1.0686805248260498\tAccuracy=0.636900007724762\n",
            "(0.004, 512):\tLoss=1.181390643119812\tAccuracy=0.6171000003814697\n",
            "(0.005, 512):\tLoss=1.236961007118225\tAccuracy=0.5860999822616577\n"
          ]
        }
      ]
    },
    {
      "cell_type": "code",
      "source": [
        "# Loop through the remaining learning rates.\n",
        "for rate in rates[5:]:\n",
        "  # Reset the models weights to default (may be redundant).\n",
        "  model.set_weights(weights)\n",
        "  \n",
        "  # Train the model with the current learning rate.\n",
        "  _, test_loss, test_acc = LeNet_Train(rate, batch_size, model)\n",
        "\n",
        "  # Check if the loss is ~2.3. If it is, the model failed to converge.\n",
        "  if (round(test_loss, 1) == 2.3):\n",
        "    print(f\"({rate}, {batch_size}):\\tLoss={test_loss}\\tAccuracy={test_acc}\\t(Training Failed)\")\n",
        "  else:\n",
        "    print(f\"({rate}, {batch_size}):\\tLoss={test_loss}\\tAccuracy={test_acc}\")\n",
        "\n",
        "  # Mitigates OOM errors.\n",
        "  keras.backend.clear_session() \n",
        "  del _"
      ],
      "metadata": {
        "colab": {
          "base_uri": "https://localhost:8080/"
        },
        "outputId": "d73b5b1f-decc-4855-f762-e78107fa8c38",
        "id": "4xfvM5ILZhm2"
      },
      "execution_count": null,
      "outputs": [
        {
          "output_type": "stream",
          "name": "stdout",
          "text": [
            "(0.006, 512):\tLoss=1.168931007385254\tAccuracy=0.6083999872207642\n",
            "(0.007, 512):\tLoss=1.3539535999298096\tAccuracy=0.5486999750137329\n",
            "(0.008, 512):\tLoss=1.3349921703338623\tAccuracy=0.565500020980835\n",
            "(0.009, 512):\tLoss=1.58746337890625\tAccuracy=0.47929999232292175\n",
            "(0.01, 512):\tLoss=1.5886863470077515\tAccuracy=0.43779999017715454\n"
          ]
        }
      ]
    },
    {
      "cell_type": "code",
      "source": [
        "model.set_weights(weights)\n",
        "history, test_loss, test_acc = LeNet_Train(0.003, batch_size, model)\n",
        "\n",
        "# Make visuals for evaluating.\n",
        "plt.plot(history.history['accuracy'], label='LeNet Train')\n",
        "plt.plot(history.history['val_accuracy'], label = 'LeNet Test')\n",
        "plt.xlabel('Epoch')\n",
        "plt.ylabel('Accuracy')\n",
        "plt.ylim([0.1, 1])\n",
        "plt.legend(loc='lower right')\n",
        "plt.title(\"LeNet Best LR History\")\n",
        "\n",
        "print(f\"({0.003}, {batch_size}):\\tLoss={test_loss}\\tAccuracy={test_acc}\")\n",
        "keras.backend.clear_session() # Mitigates OOM errors."
      ],
      "metadata": {
        "colab": {
          "base_uri": "https://localhost:8080/",
          "height": 300
        },
        "id": "FZlexseW5ZQr",
        "outputId": "9720f453-67f2-4dca-8b90-ea62d7ab49c6"
      },
      "execution_count": null,
      "outputs": [
        {
          "output_type": "stream",
          "name": "stdout",
          "text": [
            "(0.003, 512):\tLoss=1.0720142126083374\tAccuracy=0.6299999952316284\n"
          ]
        },
        {
          "output_type": "display_data",
          "data": {
            "text/plain": [
              "<Figure size 432x288 with 1 Axes>"
            ],
            "image/png": "[encoded data removed]"
          },
          "metadata": {
            "needs_background": "light"
          }
        }
      ]
    },
    {
      "cell_type": "markdown",
      "source": [
        "Prior testing showed that learning rates above 0.01 would typically fail to converge using Adam, so I limited my testing to the range of 0.001 to 0.01. From this range, the best performing learning rate using a batch size of 512 was 0.003. It achieved an accuracy of around 63% and a loss of ~1.07.\n",
        "\n",
        "The only perceivable effect the learning rate had on the training process was the rate that the model converged to its max accuracy. Lower rates had better stability, but converged the slowest, and vice versa. It did not have an impact on the time required for each epoch."
      ],
      "metadata": {
        "id": "SKRctSA-ENX-"
      }
    },
    {
      "cell_type": "markdown",
      "source": [
        "### Part 2"
      ],
      "metadata": {
        "id": "5DuG4YnX-6wx"
      }
    },
    {
      "cell_type": "code",
      "source": [
        "# Learning rate is constant for trials so that the effect of batch size is isolated.\n",
        "learning_rate = 0.003\n",
        "batchs = [16, 32, 64, 128, 256, 512, 1024, 2048, 4096]\n",
        "\n",
        "# Get initial weights and save them so the same model can be recycled.\n",
        "model = LeNet_Model()\n",
        "model.compile(loss=\"categorical_crossentropy\", optimizer=keras.optimizers.Adam(learning_rate=learning_rate), metrics=[\"accuracy\"])\n",
        "weights = model.get_weights()"
      ],
      "metadata": {
        "id": "gv71mKJT7Vue"
      },
      "execution_count": null,
      "outputs": []
    },
    {
      "cell_type": "code",
      "source": [
        "# Loop through the first five batch sizes.\n",
        "for batch in batchs[:5]:\n",
        "  # Reset the models weights to default (may be redundant).\n",
        "  model.set_weights(weights)\n",
        "\n",
        "  # Train the model with the current batch size.\n",
        "  _, test_loss, test_acc = LeNet_Train(learning_rate, batch, model)\n",
        "\n",
        "  # Check if the loss is ~2.3. If it is, the model failed to converge.\n",
        "  if (round(test_loss, 1) == 2.3):\n",
        "    print(f\"({learning_rate}, {batch}):\\tLoss={test_loss}\\tAccuracy={test_acc}\\t(Training Failed)\")\n",
        "  else:\n",
        "    print(f\"({learning_rate}, {batch}):\\tLoss={test_loss}\\tAccuracy={test_acc}\")\n",
        "\n",
        "  # Mitigates OOM errors.\n",
        "  keras.backend.clear_session() \n",
        "  del _"
      ],
      "metadata": {
        "id": "O0RhvW4F9JEt",
        "colab": {
          "base_uri": "https://localhost:8080/"
        },
        "outputId": "aef5d45d-c4eb-47cc-d821-26e1b43ce342"
      },
      "execution_count": null,
      "outputs": [
        {
          "output_type": "stream",
          "name": "stdout",
          "text": [
            "(0.003, 16):\tLoss=1.4351526498794556\tAccuracy=0.5217999815940857\n",
            "(0.003, 32):\tLoss=1.3908169269561768\tAccuracy=0.5608000159263611\n",
            "(0.003, 64):\tLoss=1.414976716041565\tAccuracy=0.5777000188827515\n",
            "(0.003, 128):\tLoss=1.3623690605163574\tAccuracy=0.588699996471405\n",
            "(0.003, 256):\tLoss=1.2399520874023438\tAccuracy=0.6133000254631042\n"
          ]
        }
      ]
    },
    {
      "cell_type": "code",
      "source": [
        "# Loop through the remaining batch sizes.\n",
        "for batch in batchs[5:]:\n",
        "  # Reset the models weights to default (may be redundant).\n",
        "  model.set_weights(weights)\n",
        "\n",
        "  # Train the model with the current batch size.\n",
        "  _, test_loss, test_acc = LeNet_Train(learning_rate, batch, model)\n",
        "\n",
        "  # Check if the loss is ~2.3. If it is, the model failed to converge.\n",
        "  if (round(test_loss, 1) == 2.3):\n",
        "    print(f\"({learning_rate}, {batch}):\\tLoss={test_loss}\\tAccuracy={test_acc}\\t(Training Failed)\")\n",
        "  else:\n",
        "    print(f\"({learning_rate}, {batch}):\\tLoss={test_loss}\\tAccuracy={test_acc}\")\n",
        "\n",
        "  # Mitigates OOM errors.\n",
        "  keras.backend.clear_session() \n",
        "  del _"
      ],
      "metadata": {
        "colab": {
          "base_uri": "https://localhost:8080/"
        },
        "id": "S1x9tME19MFl",
        "outputId": "ce9c7da5-c193-4311-d6de-1d201f6c51d9"
      },
      "execution_count": null,
      "outputs": [
        {
          "output_type": "stream",
          "name": "stdout",
          "text": [
            "(0.003, 512):\tLoss=1.0924733877182007\tAccuracy=0.6402999758720398\n",
            "(0.003, 1024):\tLoss=1.092746376991272\tAccuracy=0.6305000185966492\n",
            "(0.003, 2048):\tLoss=1.1511491537094116\tAccuracy=0.5961999893188477\n",
            "(0.003, 4096):\tLoss=1.23997163772583\tAccuracy=0.5605000257492065\n"
          ]
        }
      ]
    },
    {
      "cell_type": "code",
      "source": [
        "model.set_weights(weights)\n",
        "history, test_loss, test_acc = LeNet_Train(learning_rate, 512, model)\n",
        "\n",
        "# Make visuals for evaluating.\n",
        "plt.plot(history.history['accuracy'], label='LeNet Train')\n",
        "plt.plot(history.history['val_accuracy'], label = 'LeNet Test')\n",
        "plt.xlabel('Epoch')\n",
        "plt.ylabel('Accuracy')\n",
        "plt.ylim([0.1, 1])\n",
        "plt.legend(loc='lower right')\n",
        "plt.title(\"LeNet Best Batch History\")\n",
        "\n",
        "print(f\"({learning_rate}, {512}):\\tLoss={test_loss}\\tAccuracy={test_acc}\")\n",
        "keras.backend.clear_session() # Mitigates OOM errors."
      ],
      "metadata": {
        "colab": {
          "base_uri": "https://localhost:8080/",
          "height": 300
        },
        "id": "yPYUfOPs7i1h",
        "outputId": "df4c7154-f5a2-4c51-9a6d-e18861d9908d"
      },
      "execution_count": null,
      "outputs": [
        {
          "output_type": "stream",
          "name": "stdout",
          "text": [
            "(0.003, 512):\tLoss=1.093488335609436\tAccuracy=0.6324999928474426\n"
          ]
        },
        {
          "output_type": "display_data",
          "data": {
            "text/plain": [
              "<Figure size 432x288 with 1 Axes>"
            ],
            "image/png": "[encoded data removed]"
          },
          "metadata": {
            "needs_background": "light"
          }
        }
      ]
    },
    {
      "cell_type": "markdown",
      "source": [
        "Using the optimal learning rate found in the last part, 0.003, the best batch size was computed to be 512 as seen in the data above. With it, it was able to reach a test accuracy of ~62-64%. The primary effect that batch size has on the training process is how long training lasts. Higher batch sizes took much less time, but suffered from diminishing returns after surpassing a size of 512. "
      ],
      "metadata": {
        "id": "k1WbJzKkFDaf"
      }
    },
    {
      "cell_type": "markdown",
      "source": [
        "### Part 3"
      ],
      "metadata": {
        "id": "1yDJltoDFD0t"
      }
    },
    {
      "cell_type": "code",
      "source": [
        "# Define a model.\n",
        "# Hyperparameters are # of kernels in each layer, their size, the stride, and the size of pooled kernels.\n",
        "def LeNet_Model2(summary=False):\n",
        "  kernel_size = (3, 3)\n",
        "  model = keras.models.Sequential()\n",
        "  model.add(keras.layers.Conv2D(6*2, kernel_size, strides=(1, 1), activation='relu', input_shape = (32, 32, 3)))\n",
        "  model.add(keras.layers.MaxPool2D((2, 2), strides=(2, 2)))\n",
        "  model.add(keras.layers.Conv2D(16*2, kernel_size, strides=(1, 1), activation='relu'))\n",
        "  model.add(keras.layers.MaxPool2D((2, 2), strides=(2, 2)))\n",
        "  model.add(keras.layers.Conv2D(120*2, kernel_size, strides=(1, 1), activation='relu'))\n",
        "  model.add(keras.layers.Dropout(0.5))\n",
        "  model.add(keras.layers.Flatten()) # Needed to get (None, <classes>) output.\n",
        "  model.add(keras.layers.Dense(84, activation='relu'))\n",
        "  model.add(keras.layers.Dense(10, activation='softmax'))\n",
        "  if summary:\n",
        "    model.summary()\n",
        "  return model"
      ],
      "metadata": {
        "id": "Yr0jzqcWB9Lc"
      },
      "execution_count": null,
      "outputs": []
    },
    {
      "cell_type": "code",
      "source": [
        "# Best settings found in Parts 1 & 2\n",
        "learning_rate = 0.003\n",
        "batch_size = 512\n",
        "\n",
        "# Run on the customized model.\n",
        "model2 = LeNet_Model2(True)\n",
        "history, test_loss, test_acc = LeNet_Train(learning_rate, batch_size, model2)\n",
        "\n",
        "# Make visuals for evaluating.\n",
        "plt.plot(history.history['accuracy'], label='LeNet Train')\n",
        "plt.plot(history.history['val_accuracy'], label = 'LeNet Test')\n",
        "plt.xlabel('Epoch')\n",
        "plt.ylabel('Accuracy')\n",
        "plt.ylim([0.1, 1])\n",
        "plt.legend(loc='lower right')\n",
        "plt.title(\"LeNet Best Config History\")\n",
        "print(f\"({learning_rate}, {batch_size}):\\tLoss={test_loss}\\tAccuracy={test_acc}\")"
      ],
      "metadata": {
        "colab": {
          "base_uri": "https://localhost:8080/",
          "height": 804
        },
        "outputId": "f3bf677e-c025-41de-f94e-ddac9370fa7e",
        "id": "Gaet-HUhsbNc"
      },
      "execution_count": null,
      "outputs": [
        {
          "output_type": "stream",
          "name": "stdout",
          "text": [
            "Model: \"sequential_2\"\n",
            "_________________________________________________________________\n",
            " Layer (type)                Output Shape              Param #   \n",
            "=================================================================\n",
            " conv2d_6 (Conv2D)           (None, 30, 30, 12)        336       \n",
            "                                                                 \n",
            " max_pooling2d_4 (MaxPooling  (None, 15, 15, 12)       0         \n",
            " 2D)                                                             \n",
            "                                                                 \n",
            " conv2d_7 (Conv2D)           (None, 13, 13, 32)        3488      \n",
            "                                                                 \n",
            " max_pooling2d_5 (MaxPooling  (None, 6, 6, 32)         0         \n",
            " 2D)                                                             \n",
            "                                                                 \n",
            " conv2d_8 (Conv2D)           (None, 4, 4, 240)         69360     \n",
            "                                                                 \n",
            " dropout_6 (Dropout)         (None, 4, 4, 240)         0         \n",
            "                                                                 \n",
            " flatten_2 (Flatten)         (None, 3840)              0         \n",
            "                                                                 \n",
            " dense_4 (Dense)             (None, 84)                322644    \n",
            "                                                                 \n",
            " dense_5 (Dense)             (None, 10)                850       \n",
            "                                                                 \n",
            "=================================================================\n",
            "Total params: 396,678\n",
            "Trainable params: 396,678\n",
            "Non-trainable params: 0\n",
            "_________________________________________________________________\n",
            "(0.003, 512):\tLoss=0.7976205348968506\tAccuracy=0.7391999959945679\n"
          ]
        },
        {
          "output_type": "display_data",
          "data": {
            "text/plain": [
              "<Figure size 432x288 with 1 Axes>"
            ],
            "image/png": "[encoded data removed]"
          },
          "metadata": {
            "needs_background": "light"
          }
        }
      ]
    },
    {
      "cell_type": "markdown",
      "source": [
        "By reducing the size of kernels in each convolutional layer to (3, 3), I caused the training accuracy of the model to skyrocket to ~90%. This resulted in severe overfitting, so I added in a dropout layer after the final convolution layer with a probability of 0.5 to regularize it. This had a significant impact on the results, raising the testing accuracy by about 10% when combined with my other changes.\n",
        "\n",
        "Doubling the number of kernels in each layer raised both the training and testing accuracy by ~8%. I left the strides for the convolution layers at (1, 1) since increasing them had a negative impact on the accuracy and loss. Additionally, increasing the size of the pooling layers also had a negative impact, so I left it at (2, 2) as well. Ultimately, I was able to achieve a training accuracy of ~80% and a testing accuracy of ~74%."
      ],
      "metadata": {
        "id": "ZXykKCeaFWAX"
      }
    },
    {
      "cell_type": "markdown",
      "source": [
        "### Part 4"
      ],
      "metadata": {
        "id": "bkQa8uNYFX4g"
      }
    },
    {
      "cell_type": "code",
      "source": [
        "# Model definition for the feed forward equivalent of LeNet.\n",
        "def FF_Model(summary=False):\n",
        "  model = keras.models.Sequential()\n",
        "  model.add(keras.layers.Flatten(input_shape=(32, 32, 3)))\n",
        "  model.add(keras.layers.Dense(6, activation='relu'))\n",
        "  model.add(keras.layers.Dense(16, activation='relu'))\n",
        "  model.add(keras.layers.Dense(120, activation='relu'))\n",
        "  model.add(keras.layers.Dense(84, activation='relu'))\n",
        "  model.add(keras.layers.Dense(10, activation='softmax'))\n",
        "  if summary:\n",
        "    model.summary()\n",
        "  return model"
      ],
      "metadata": {
        "id": "KNF53s8dFXDI"
      },
      "execution_count": 4,
      "outputs": []
    },
    {
      "cell_type": "markdown",
      "source": [
        "#### Part A"
      ],
      "metadata": {
        "id": "dzDhGpNa-t1H"
      }
    },
    {
      "cell_type": "code",
      "source": [
        "# Training settings.\n",
        "learning_rate = 0.003\n",
        "batch_size = 512\n",
        "\n",
        "# Create and train the model.\n",
        "history, test_loss, test_acc = LeNet_Train(learning_rate, batch_size, FF_Model(), verbose=0)\n",
        "\n",
        "# Make visuals for evaluating.\n",
        "plt.plot(history.history['accuracy'], label='FF Train')\n",
        "plt.plot(history.history['val_accuracy'], label = 'FF Test')\n",
        "plt.xlabel('Epoch')\n",
        "plt.ylabel('Accuracy')\n",
        "plt.ylim([0.1, 0.5])\n",
        "plt.legend(loc='lower right')\n",
        "plt.title(\"LeNet Feed Forward History\")\n",
        "print(f\"({learning_rate}, {batch_size}):\\tLoss={test_loss}\\tAccuracy={test_acc}\")"
      ],
      "metadata": {
        "colab": {
          "base_uri": "https://localhost:8080/",
          "height": 300
        },
        "outputId": "27176b18-38db-49dd-daea-6522b0e17b11",
        "id": "j-NsT_4Hpbiu"
      },
      "execution_count": null,
      "outputs": [
        {
          "output_type": "stream",
          "name": "stdout",
          "text": [
            "(0.003, 512):\tLoss=1.806210994720459\tAccuracy=0.3337000012397766\n"
          ]
        },
        {
          "output_type": "display_data",
          "data": {
            "text/plain": [
              "<Figure size 432x288 with 1 Axes>"
            ],
            "image/png": "[encoded data removed]"
          },
          "metadata": {
            "needs_background": "light"
          }
        }
      ]
    },
    {
      "cell_type": "markdown",
      "source": [
        "The equivalent feed forward network performed significantly worse than both the original LeNet implementation and my own variant. With a batch size of 512 and a learning rate of 0.003, it was able to achieve a test accuracy of ~33.5%. I also attempted using 0.001 for the learning rate and 128 for the batch size, but it performed about the same and took longer to train. \n",
        "\n",
        "I don't believe that more training would allow it to get significantly better accuracy, since its accuracy curve above has already topped out in the graph in the best case scenario. I believe that significant changes to the networks layers would need to be made to achieve any further significant increases in accuracy."
      ],
      "metadata": {
        "id": "KU7QAUS8QkBV"
      }
    },
    {
      "cell_type": "markdown",
      "source": [
        "#### Part B"
      ],
      "metadata": {
        "id": "0OcCqrHc-2I2"
      }
    },
    {
      "cell_type": "code",
      "source": [
        "# Print the model summaries.\n",
        "LeNet_Model(True)\n",
        "FF_Model(True)"
      ],
      "metadata": {
        "colab": {
          "base_uri": "https://localhost:8080/"
        },
        "id": "iMYdZK8lw-AU",
        "outputId": "10431e87-370e-4223-d997-ea75bd35edf6"
      },
      "execution_count": null,
      "outputs": [
        {
          "output_type": "stream",
          "name": "stdout",
          "text": [
            "Model: \"sequential_9\"\n",
            "_________________________________________________________________\n",
            " Layer (type)                Output Shape              Param #   \n",
            "=================================================================\n",
            " conv2d_9 (Conv2D)           (None, 28, 28, 6)         456       \n",
            "                                                                 \n",
            " max_pooling2d_6 (MaxPooling  (None, 14, 14, 6)        0         \n",
            " 2D)                                                             \n",
            "                                                                 \n",
            " conv2d_10 (Conv2D)          (None, 10, 10, 16)        2416      \n",
            "                                                                 \n",
            " max_pooling2d_7 (MaxPooling  (None, 5, 5, 16)         0         \n",
            " 2D)                                                             \n",
            "                                                                 \n",
            " conv2d_11 (Conv2D)          (None, 1, 1, 120)         48120     \n",
            "                                                                 \n",
            " flatten_9 (Flatten)         (None, 120)               0         \n",
            "                                                                 \n",
            " dense_36 (Dense)            (None, 84)                10164     \n",
            "                                                                 \n",
            " dense_37 (Dense)            (None, 10)                850       \n",
            "                                                                 \n",
            "=================================================================\n",
            "Total params: 62,006\n",
            "Trainable params: 62,006\n",
            "Non-trainable params: 0\n",
            "_________________________________________________________________\n",
            "Model: \"sequential_10\"\n",
            "_________________________________________________________________\n",
            " Layer (type)                Output Shape              Param #   \n",
            "=================================================================\n",
            " flatten_10 (Flatten)        (None, 3072)              0         \n",
            "                                                                 \n",
            " dense_38 (Dense)            (None, 6)                 18438     \n",
            "                                                                 \n",
            " dense_39 (Dense)            (None, 16)                112       \n",
            "                                                                 \n",
            " dense_40 (Dense)            (None, 120)               2040      \n",
            "                                                                 \n",
            " dense_41 (Dense)            (None, 84)                10164     \n",
            "                                                                 \n",
            " dense_42 (Dense)            (None, 10)                850       \n",
            "                                                                 \n",
            "=================================================================\n",
            "Total params: 31,604\n",
            "Trainable params: 31,604\n",
            "Non-trainable params: 0\n",
            "_________________________________________________________________\n"
          ]
        },
        {
          "output_type": "execute_result",
          "data": {
            "text/plain": [
              "<keras.engine.sequential.Sequential at 0x7f31da7f3150>"
            ]
          },
          "metadata": {},
          "execution_count": 16
        }
      ]
    },
    {
      "cell_type": "markdown",
      "source": [
        "The model uses 31,604 parameters in total, in comparison to LeNet's 62,006. Since it uses significantly less parameters, the amount of time needed for each epoch is also much less. However, I don't believe that makes the reduction in parameters preferable still since the drop in accuracy is too drastic for the same amount of training time."
      ],
      "metadata": {
        "id": "YRC2qxpvyzME"
      }
    },
    {
      "cell_type": "markdown",
      "source": [
        "# Question 3"
      ],
      "metadata": {
        "id": "yemosNuCr2qr"
      }
    },
    {
      "cell_type": "code",
      "source": [
        "X = np.array([[7, 5, 0, 0, 3, 2],\n",
        "              [6, 4, 5, 1, 4, 8],\n",
        "              [9, 0, 2, 2, 5, 4],\n",
        "              [6, 3, 4, 7, 9, 8],\n",
        "              [5, 7, 5, 6, 9, 0],\n",
        "              [7, 9, 0, 8, 2, 3]])\n",
        "\n",
        "f = np.array([[1, 0, -1],\n",
        "              [2, 0, -2],\n",
        "              [1, 0, -1]])"
      ],
      "metadata": {
        "id": "buQfjgNFr8E8"
      },
      "execution_count": null,
      "outputs": []
    },
    {
      "cell_type": "markdown",
      "source": [
        "### Part 1"
      ],
      "metadata": {
        "id": "HJZCDfsfr5aD"
      }
    },
    {
      "cell_type": "code",
      "source": [
        "numParam = f.shape[0] * f.shape[1] + 1\n",
        "print(f\"Input Shape: {X.shape}\\nKernel Shape: {f.shape}\\nKernel Parameters: {numParam}\")"
      ],
      "metadata": {
        "colab": {
          "base_uri": "https://localhost:8080/"
        },
        "id": "jpt2hUyvsni-",
        "outputId": "161f3306-146b-497a-e354-c396192627d6"
      },
      "execution_count": null,
      "outputs": [
        {
          "output_type": "stream",
          "name": "stdout",
          "text": [
            "Input Shape: (6, 6)\n",
            "Kernel Shape: (3, 3)\n",
            "Kernel Parameters: 10\n"
          ]
        }
      ]
    },
    {
      "cell_type": "markdown",
      "source": [
        "The input dimensions are (6, 6) and the kernel dimensions are (3, 3). The number of parameters in the kernel is given by the function $n = f_x * f_y + 1$, which is equal to 10."
      ],
      "metadata": {
        "id": "q6LlBK5ivBlf"
      }
    },
    {
      "cell_type": "markdown",
      "source": [
        "### Part 2"
      ],
      "metadata": {
        "id": "GM8mTZrrvC5k"
      }
    },
    {
      "cell_type": "code",
      "source": [
        "# Function used to convolve an input with a given kernel \n",
        "def convolve(input, kernel):\n",
        "  # Get the spatial size of the output.\n",
        "  size = input.shape[0] - kernel.shape[0] + 1\n",
        "  output = np.zeros((size, size))\n",
        "\n",
        "  # Flip the kernel for cross correlation.\n",
        "  kernel = np.flip(kernel)\n",
        "  kSize = kernel.shape[0]\n",
        "\n",
        "  # Iterate across the input matrix.\n",
        "  for x in range(size):\n",
        "    for y in range(size):\n",
        "      # Define the output value as the sum of the kernel matrix cross multiplied\n",
        "      # by the equivalent sector of input. For a 3x3 filter and x=0, y=0, the\n",
        "      # used sector would be the 8 cells surrounding (1, 1) along with itself.\n",
        "      output[x, y] = np.sum(kernel * input[x: x + kSize, y: y + kSize])\n",
        "  return output\n",
        "\n",
        "output = convolve(X, f)\n",
        "print(output)"
      ],
      "metadata": {
        "colab": {
          "base_uri": "https://localhost:8080/"
        },
        "id": "1yKrdPquvEOD",
        "outputId": "0408ebc2-03c5-47ef-8ef2-c137f577247b"
      },
      "execution_count": null,
      "outputs": [
        {
          "output_type": "stream",
          "name": "stdout",
          "text": [
            "[[-16.  -9.   4.  18.]\n",
            " [-17.   5.  10.  12.]\n",
            " [-11.   9.  17.  -2.]\n",
            " [ -9.   1.  15. -16.]]\n"
          ]
        }
      ]
    },
    {
      "cell_type": "markdown",
      "source": [
        "The output activation map when applying the convolutional operation on the $X$ using kernel $f$ is the above output. I used code to find the output by programming a limited convolve function that iterates over the input and sums the cross product of a flipped version of the kernel with slices of the input to convolve."
      ],
      "metadata": {
        "id": "tvmXcxKhwDjl"
      }
    },
    {
      "cell_type": "markdown",
      "source": [
        "### Part 3"
      ],
      "metadata": {
        "id": "7yhNiZY7wPbw"
      }
    },
    {
      "cell_type": "code",
      "source": [
        "# Function for finding the max of pools gathered from an input matrix.\n",
        "def max_pooling(input, size, stride):\n",
        "  # Get all maxed pools.\n",
        "  pools = np.array([])\n",
        "  for x in range(0, input.shape[0], stride):\n",
        "    for y in range(0, input.shape[0], stride):\n",
        "      pools = np.append(pools, np.max(input[x: x + size, y: y + size]))\n",
        "\n",
        "  # Reshape the output to correct dimensions.\n",
        "  return pools.reshape((size, size))\n",
        "\n",
        "# Hyperparameters.\n",
        "size = 2\n",
        "stride = 2\n",
        "\n",
        "# Find the maximized pools.\n",
        "pooled = max_pooling(output, size, stride)\n",
        "print(pooled)"
      ],
      "metadata": {
        "colab": {
          "base_uri": "https://localhost:8080/"
        },
        "id": "fcK1ilaO-Y-O",
        "outputId": "faa8fedd-a12e-4c59-e3b9-6ef0379ddc34"
      },
      "execution_count": null,
      "outputs": [
        {
          "output_type": "stream",
          "name": "stdout",
          "text": [
            "[[ 5. 18.]\n",
            " [ 9. 17.]]\n"
          ]
        }
      ]
    },
    {
      "cell_type": "markdown",
      "source": [
        "The output when applying a max-pooling operation on the output from the last part using a pool size of 2 and a stride of 2 is the above 2 by 2 matrix. With these settings, the resulting output is the highest value in each 2 by 2 quadrent of the last part's output. \n",
        "\n",
        "I used code to find the output by writing a simple max pooling function that both obtains and maxes pools from an input given also a size for the pools and a stride.  Because it wasn't necessary for my data and input, the function does not assert pools to be of the correct size when using other stride values."
      ],
      "metadata": {
        "id": "RBHH4EvWxhkS"
      }
    }
  ]
}